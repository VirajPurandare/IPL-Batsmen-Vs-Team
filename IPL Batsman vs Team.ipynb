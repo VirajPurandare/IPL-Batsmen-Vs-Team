{
 "cells": [
  {
   "cell_type": "code",
   "execution_count": 62,
   "metadata": {},
   "outputs": [],
   "source": [
    "import pandas as pd\n",
    "import numpy as np\n",
    "import matplotlib.pyplot as plt\n",
    "import seaborn as sns\n",
    "deliveries = pd.read_csv('D:\\\\Downloads\\\\IPL Ball-by-Ball 2008-2020.csv')\n",
    "matches = pd.read_csv('D:\\\\Downloads\\\\IPL Matches 2008-2020.csv')"
   ]
  },
  {
   "cell_type": "markdown",
   "metadata": {},
   "source": [
    "# Player Vs Team Comparison"
   ]
  },
  {
   "cell_type": "code",
   "execution_count": 63,
   "metadata": {},
   "outputs": [],
   "source": [
    "def Player_team_comparision():\n",
    "    player = input(\"Enter player name:- \") \n",
    "    Ball_by_ball= deliveries[deliveries['batsman']== player] \n",
    "    team= input(\"Enter oppenent name:- \") \n",
    "    Ball_by_ball =  Ball_by_ball[Ball_by_ball['bowling_team'] == team]\n",
    "    unique_matches = Ball_by_ball['id'].unique().tolist()\n",
    "    unique_matches_1 =[]\n",
    "    for id_match in unique_matches:\n",
    "        df = matches[matches['id']==id_match]\n",
    "        unique_matches_1.append(df.iloc[0])\n",
    "    unique_df = pd.DataFrame(unique_matches_1)\n",
    "    unique_df['date'] = pd.to_datetime(unique_df['date'])\n",
    "    unique_df= unique_df.sort_values(by='date')\n",
    "    runs=[]\n",
    "    for index, row in unique_df.iterrows():\n",
    "        match_id= row['id']\n",
    "        temp = Ball_by_ball[(Ball_by_ball['id'] == match_id) & (Ball_by_ball['batsman'] == player)]\n",
    "        runs_scored = temp['batsman_runs'].sum()\n",
    "        runs.append(runs_scored)\n",
    "    unique_df['runs']= runs    \n",
    "   \n",
    "    balls=[]\n",
    "    SR= []\n",
    "    first_10= []\n",
    "    ten_to_30= []\n",
    "    thirty_plus= []\n",
    "    for index, row in unique_df.iterrows():\n",
    "        match_id= row['id']\n",
    "        temp = Ball_by_ball[(Ball_by_ball['id'] == match_id) & (Ball_by_ball['batsman'] == player)]\n",
    "        temp2= temp[temp['extra_runs']==0]\n",
    "        balls_bowled = len(temp[temp['extra_runs']==0])\n",
    "        balls.append(balls_bowled)\n",
    "        if balls_bowled <= 10:\n",
    "            first_10.append(temp['batsman_runs'].sum())\n",
    "            ten_to_30.append(0)\n",
    "            thirty_plus.append(0)\n",
    "        elif balls_bowled > 10 and balls_bowled <= 30:\n",
    "            first_10.append(temp2.iloc[0:10]['batsman_runs'].sum())\n",
    "            ten_to_30.append(temp2.iloc[10:30]['batsman_runs'].sum())\n",
    "            thirty_plus.append(0)\n",
    "        else:\n",
    "            first_10.append(temp2.iloc[0:10]['batsman_runs'].sum())\n",
    "            ten_to_30.append(temp2.iloc[10:30]['batsman_runs'].sum())\n",
    "            thirty_plus.append(temp2.iloc[30:]['batsman_runs'].sum())\n",
    "    unique_df['balls']= balls\n",
    "    unique_df['first_10']= first_10\n",
    "    unique_df['ten_to_thirty']= ten_to_30\n",
    "    unique_df['thirty_plus'] = thirty_plus\n",
    "    for index, row in unique_df.iterrows():\n",
    "        temp_sr= row['runs']/row['balls']*100\n",
    "        SR.append(temp_sr)\n",
    "    unique_df['SR']= SR\n",
    "    \n",
    "    unique_df['season']= unique_df['date'].dt.year\n",
    "    \n",
    "    group_season= unique_df.groupby(['season'])\n",
    "    data_final = group_season.mean()\n",
    "    data_final\n",
    "    #Highest runs in different phases\n",
    "    HS_first10 = max(unique_df[\"first_10\"])\n",
    "    HS_tenTothirty = max(unique_df[\"ten_to_thirty\"])\n",
    "    HS_thirtyplus = max(unique_df[\"thirty_plus\"])\n",
    "    HS_overall = max(unique_df[\"runs\"])\n",
    "    print(\"Highest runs scored by \"+ player + ' against '+ team + ' is', HS_overall)\n",
    "    print(\"Highest runs scored in first 10 balls by \"+ player + ' against '+ team + ' is', HS_first10)\n",
    "    print(\"Highest runs scored in 10 to 30 balls by \"+ player + ' against '+ team + ' is', HS_tenTothirty)\n",
    "    print(\"Highest runs scored after 30 balls by \"+ player + ' against '+ team + ' is', HS_thirtyplus)\n",
    "    \n",
    "    #Avg runs scored by batsmen against team\n",
    "    Seasons = data_final.index.tolist()\n",
    "    Score = data_final['runs']\n",
    "    ax=sns.barplot(x=Seasons,y=Score)\n",
    "    ax.set_ylabel('Scores')\n",
    "    ax.set_xlabel('Seasons')\n",
    "    ax.set_title('Avg Runs scored by '+ player)\n",
    "    plt.show()\n",
    "\n",
    "    #Avg SR of batsmen against team\n",
    "    SR = data_final['SR']\n",
    "    ax=sns.barplot(x=Seasons,y=SR)\n",
    "    ax.set_ylabel('SR')\n",
    "    ax.set_xlabel('Seasons')\n",
    "    ax.set_title('Avg SR of '+ player)\n",
    "    plt.show()"
   ]
  },
  {
   "cell_type": "code",
   "execution_count": 64,
   "metadata": {},
   "outputs": [
    {
     "name": "stdout",
     "output_type": "stream",
     "text": [
      "Enter player name:- V Kohli\n",
      "Enter oppenent name:- Mumbai Indians\n",
      "Highest runs scored by V Kohli against Mumbai Indians is 92\n",
      "Highest runs scored in first 10 balls by V Kohli against Mumbai Indians is 18\n",
      "Highest runs scored in 10 to 30 balls by V Kohli against Mumbai Indians is 35\n",
      "Highest runs scored after 30 balls by V Kohli against Mumbai Indians is 43\n"
     ]
    },
    {
     "data": {
      "image/png": "[encoded data removed]",
      "text/plain": [
       "<Figure size 432x288 with 1 Axes>"
      ]
     },
     "metadata": {
      "needs_background": "light"
     },
     "output_type": "display_data"
    },
    {
     "data": {
      "image/png": "[encoded data removed]",
      "text/plain": [
       "<Figure size 432x288 with 1 Axes>"
      ]
     },
     "metadata": {
      "needs_background": "light"
     },
     "output_type": "display_data"
    }
   ],
   "source": [
    "Player_team_comparision()"
   ]
  },
  {
   "cell_type": "code",
   "execution_count": null,
   "metadata": {},
   "outputs": [],
   "source": []
  }
 ],
 "metadata": {
  "kernelspec": {
   "display_name": "Python 3",
   "language": "python",
   "name": "python3"
  },
  "language_info": {
   "codemirror_mode": {
    "name": "ipython",
    "version": 3
   },
   "file_extension": ".py",
   "mimetype": "text/x-python",
   "name": "python",
   "nbconvert_exporter": "python",
   "pygments_lexer": "ipython3",
   "version": "3.7.4"
  }
 },
 "nbformat": 4,
 "nbformat_minor": 2
}
